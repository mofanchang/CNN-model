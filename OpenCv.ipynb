{
  "nbformat": 4,
  "nbformat_minor": 0,
  "metadata": {
    "colab": {
      "provenance": [],
      "mount_file_id": "1SHgohjcpErpIpiMHgqW-iWzRh1nnAeGv",
      "authorship_tag": "ABX9TyPHKXn0xQcMHX43sjPzphWQ",
      "include_colab_link": true
    },
    "kernelspec": {
      "name": "python3",
      "display_name": "Python 3"
    },
    "language_info": {
      "name": "python"
    }
  },
  "cells": [
    {
      "cell_type": "markdown",
      "metadata": {
        "id": "view-in-github",
        "colab_type": "text"
      },
      "source": [
        "<a href=\"https://colab.research.google.com/github/mofanchang/CNN-model/blob/main/OpenCv.ipynb\" target=\"_parent\"><img src=\"https://colab.research.google.com/assets/colab-badge.svg\" alt=\"Open In Colab\"/></a>"
      ]
    },
    {
      "cell_type": "code",
      "execution_count": 1,
      "metadata": {
        "id": "TPEwNYiduS0w"
      },
      "outputs": [],
      "source": [
        "import numpy as np\n",
        "import pandas as pd\n",
        "import cv2 as cv\n",
        "from google.colab.patches import cv2_imshow    \n",
        "from skimage import io\n",
        "from PIL import Image\n",
        "import matplotlib.pylab as plt"
      ]
    },
    {
      "cell_type": "code",
      "execution_count": 4,
      "metadata": {
        "colab": {
          "base_uri": "https://localhost:8080/"
        },
        "id": "a6ILJdMYFF8M",
        "outputId": "f11fbb53-bbd4-4565-c0f6-c73e2bc9e036"
      },
      "outputs": [
        {
          "output_type": "execute_result",
          "data": {
            "text/plain": [
              "-1"
            ]
          },
          "metadata": {},
          "execution_count": 4
        }
      ],
      "source": [
        "import numpy as np\n",
        "import cv2\n",
        "import os\n",
        "\n",
        "from google.colab.patches import cv2_imshow\n",
        "\n",
        "#數據增強後的圖片保存路勁\n",
        "save_path='/content/drive/MyDrive/Colab Notebooks/cytoclassifier'\n",
        "\n",
        "for info in os.listdir(r'/content/drive/MyDrive/Colab Notebooks/cytoclassifier/total/HSIL'):\n",
        "    domain = os.path.abspath(\n",
        "        r'/content/drive/MyDrive/Colab Notebooks/cytoclassifier/total/HSIL')  \n",
        "    info1 = os.path.join(domain, info)  \n",
        "    img = cv.imread(info1)\n",
        "    # cv2_imshow(img)\n",
        "    cv.waitKey(1000)\n",
        "    # 水平鏡像\n",
        "    h_flip = cv2.flip(img, 1)\n",
        "    # cv2_imshow(h_flip)\n",
        "    cv.imwrite(save_path+info+'_h_flip.jpg', h_flip)\n",
        "    # 垂直鏡像\n",
        "    v_flip = cv.flip(img, 0)\n",
        "    # cv2_imshow(v_flip)\n",
        "    cv.imwrite(save_path+info+'_v_flip.jpg', v_flip)\n",
        "    # 水平垂直鏡像\n",
        "    hv_flip = cv.flip(img, -1)\n",
        "    # cv2_imshow(hv_flip)\n",
        "    cv.imwrite(save_path+info+'hv_flip.jpg', hv_flip)\n",
        "    # 平移矩陣[[1,0,-100],[0,1,-12]]\n",
        "    M = np.array([[1, 0, -100], [0, 1, -12]], dtype=np.float32)\n",
        "    img_change = cv2.warpAffine(img, M, (300, 300))\n",
        "    # cv2_imshow(img_change)\n",
        "    cv2.imwrite(save_path+info+'img_change.jpg', img_change)\n",
        "    # 90度旋轉\n",
        "    rows, cols = img.shape[:2]\n",
        "    M = cv.getRotationMatrix2D((cols / 2, rows / 2), 90, 1)\n",
        "    dst_90 = cv.warpAffine(img, M, (cols, rows))\n",
        "    # cv2_imshow(dst_90)\n",
        "    cv.imwrite(save_path+info+'dst_90.jpg', dst_90)\n",
        "    # 70度旋轉\n",
        "    rows, cols = img.shape[:2]\n",
        "    M = cv.getRotationMatrix2D((cols / 2, rows / 2), 70, 1)\n",
        "    dst_70 = cv.warpAffine(img, M, (cols, rows))\n",
        "    # cv2_imshow(dst_70)\n",
        "    cv.imwrite(save_path+info+'dst_70.jpg', dst_70)\n",
        "    # 60度旋轉\n",
        "    rows, cols = img.shape[:2]\n",
        "    M = cv.getRotationMatrix2D((cols / 2, rows / 2), 60, 1)\n",
        "    dst_60 = cv.warpAffine(img, M, (cols, rows))\n",
        "    # cv2_imshow(dst_60)\n",
        "    cv2.imwrite(save_path+info+'dst_60.jpg', dst_60)\n",
        "    # 50度旋轉\n",
        "    rows, cols = img.shape[:2]\n",
        "    M = cv.getRotationMatrix2D((cols / 2, rows / 2), 50, 1)\n",
        "    dst_50 = cv2.warpAffine(img, M, (cols, rows))\n",
        "    # cv2_imshow(dst_50)\n",
        "    cv.imwrite(save_path+info+'dst_50.jpg', dst_50)\n",
        "    # 45度旋轉\n",
        "    rows, cols = img.shape[:2]\n",
        "    M = cv2.getRotationMatrix2D((cols / 2, rows / 2), 45, 1)\n",
        "    dst_45 = cv2.warpAffine(img, M, (cols, rows))\n",
        "    # cv2_imshow(dst_45)\n",
        "    cv2.imwrite(save_path+info+'dst_45.jpg', dst_45)\n",
        "    # 40度旋轉\n",
        "    rows, cols = img.shape[:2]\n",
        "    M = cv2.getRotationMatrix2D((cols / 2, rows / 2), 40, 1)\n",
        "    dst_40 = cv2.warpAffine(img, M, (cols, rows))\n",
        "    # cv2_imshow(dst_40)\n",
        "    cv2.imwrite(save_path+info+'dst_40.jpg', dst_40)\n",
        "    # 30度旋轉\n",
        "    rows, cols = img.shape[:2]\n",
        "    M = cv2.getRotationMatrix2D((cols / 2, rows / 2), 30, 1)\n",
        "    dst_30 = cv2.warpAffine(img, M, (cols, rows))\n",
        "    # cv2_imshow(dst_30)\n",
        "    cv2.imwrite(save_path+info+'dst_30.jpg', dst_30)\n",
        "    # 20度旋轉\n",
        "    rows, cols = img.shape[:2]\n",
        "    M = cv2.getRotationMatrix2D((cols / 2, rows / 2), 20, 1)\n",
        "    dst_20 = cv2.warpAffine(img, M, (cols, rows))\n",
        "    # cv2_imshow(dst_20)\n",
        "    cv.imwrite(save_path+info+'dst_20.jpg', dst_20)\n",
        "    point1 = np.float32([[50, 50], [300, 50], [50, 200]])\n",
        "    point2 = np.float32([[10, 100], [300, 50], [100, 250]])\n",
        "    M = cv.getAffineTransform(point1, point2)\n",
        "    dst1 = cv.warpAffine(img, M, (cols, rows), borderValue=(255, 255, 255))\n",
        "    # cv2_imshow(dst1)\n",
        "    cv.imwrite(save_path+info+'dst1.jpg', dst1)\n",
        "\n",
        "cv.waitKey(0)"
      ]
    }
  ]
}